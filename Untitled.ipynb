{
 "cells": [
  {
   "cell_type": "code",
   "execution_count": 14,
   "id": "ca6f4a10-0cc8-4e72-85a0-2f890ca7a9d5",
   "metadata": {},
   "outputs": [
    {
     "name": "stdout",
     "output_type": "stream",
     "text": [
      "发生错误：('Unexpected credentials type', None, 'Expected', 'service_account')\n"
     ]
    }
   ],
   "source": [
    "import gspread\n",
    "from oauth2client.service_account import ServiceAccountCredentials\n",
    "import requests\n",
    "\n",
    "# Google Sheets API 凭证文件\n",
    "GOOGLE_SHEETS_CREDENTIALS_FILE = 'credentials.json'\n",
    "\n",
    "# Telegram Bot Token 和频道 ID\n",
    "TELEGRAM_BOT_TOKEN = '7291139880:AAHPcfpuFQGN-_WOMfKBLRtXKrQft-ycVhc'\n",
    "TELEGRAM_CHANNEL_ID = '-1002177937989'\n",
    "\n",
    "# Google Sheets 表格 ID 和工作表名称\n",
    "SPREADSHEET_ID = '1S6a-zfzfx6w_FKfhHyMSlVA0I3ipHNr5V-SnZ1pNgO4'\n",
    "WORKSHEET_NAME = 'Sheet1'\n",
    "\n",
    "def read_google_sheets(credentials_file, spreadsheet_id, worksheet_name):\n",
    "    scope = [\"https://spreadsheets.google.com/feeds\", \"https://www.googleapis.com/auth/drive\"]\n",
    "    creds = ServiceAccountCredentials.from_json_keyfile_name(credentials_file, scope)\n",
    "    client = gspread.authorize(creds)\n",
    "    \n",
    "    sheet = client.open_by_key(spreadsheet_id).worksheet(worksheet_name)\n",
    "    data = sheet.get_all_values()\n",
    "    return data\n",
    "\n",
    "def send_message_to_telegram(message, bot_token, channel_id):\n",
    "    url = f'https://api.telegram.org/bot{bot_token}/sendMessage'\n",
    "    data = {\n",
    "        'chat_id': channel_id,\n",
    "        'text': message,\n",
    "        'parse_mode': 'Markdown'  # 使用 Markdown 格式化消息\n",
    "    }\n",
    "    response = requests.post(url, data=data)\n",
    "    return response\n",
    "\n",
    "if __name__ == \"__main__\":\n",
    "    try:\n",
    "        # 读取 Google Sheets 的数据\n",
    "        data = read_google_sheets(GOOGLE_SHEETS_CREDENTIALS_FILE, SPREADSHEET_ID, WORKSHEET_NAME)\n",
    "        \n",
    "        # 构建消息\n",
    "        message = \"Google Sheets 数据:\\n\\n\"\n",
    "        for row in data:\n",
    "            message += \" | \".join(row) + \"\\n\"\n",
    "        \n",
    "        # 发送消息到 Telegram\n",
    "        response = send_message_to_telegram(message, TELEGRAM_BOT_TOKEN, TELEGRAM_CHANNEL_ID)\n",
    "        \n",
    "        if response.status_code == 200:\n",
    "            print('消息已成功发送到 Telegram 频道')\n",
    "        else:\n",
    "            print(f\"发送消息失败：{response.text}\")\n",
    "    except Exception as e:\n",
    "        print(f\"发生错误：{e}\")"
   ]
  },
  {
   "cell_type": "code",
   "execution_count": null,
   "id": "fc656cb3-6a6e-4a40-9b92-429e31e8d63f",
   "metadata": {},
   "outputs": [],
   "source": [
    "TESLA_EMAIL = 'sulaxd@gmail.com'\n",
    "TESLA_PASSWORD = 'Ss1397268455,'"
   ]
  },
  {
   "cell_type": "code",
   "execution_count": 12,
   "id": "d09bb96a-7f6b-4b9b-b1d5-32710117ebd9",
   "metadata": {},
   "outputs": [
    {
     "name": "stdout",
     "output_type": "stream",
     "text": [
      "消息已成功发送到 Telegram 频道\n"
     ]
    }
   ],
   "source": [
    "import teslapy\n",
    "import requests\n",
    "\n",
    "# Tesla 帐户电子邮件和密码\n",
    "TESLA_EMAIL = 'sulaxd@gmail.com'\n",
    "TESLA_PASSWORD = 'Ss1397268455,'\n",
    "\n",
    "# Telegram Bot Token 和频道 ID\n",
    "TELEGRAM_BOT_TOKEN = '7291139880:AAHPcfpuFQGN-_WOMfKBLRtXKrQft-ycVhc'\n",
    "TELEGRAM_CHANNEL_ID = '-1002177937989'\n",
    "\n",
    "def send_message_to_telegram(message, bot_token, channel_id):\n",
    "    url = f'https://api.telegram.org/bot{bot_token}/sendMessage'\n",
    "    data = {\n",
    "        'chat_id': channel_id,\n",
    "        'text': message\n",
    "    }\n",
    "    response = requests.post(url, data=data)\n",
    "    return response\n",
    "\n",
    "if __name__ == \"__main__\":\n",
    "    try:\n",
    "        with teslapy.Tesla(TESLA_EMAIL) as tesla:\n",
    "            tesla.fetch_token(\n",
    "                request='password',\n",
    "                password=TESLA_PASSWORD\n",
    "            )\n",
    "            vehicles = tesla.vehicle_list()\n",
    "            vehicle = vehicles[0]\n",
    "            vehicle.sync_wake_up()\n",
    "\n",
    "            # 获取车辆基本信息\n",
    "            display_name = vehicle['display_name']\n",
    "            last_seen = vehicle.last_seen()\n",
    "            battery_level = vehicle['charge_state']['battery_level']\n",
    "            odometer = vehicle['vehicle_state']['odometer']\n",
    "            charging_state = vehicle['charge_state']['charging_state']\n",
    "            latitude = vehicle['drive_state']['latitude']\n",
    "            longitude = vehicle['drive_state']['longitude']\n",
    "            car_version = vehicle['vehicle_state']['car_version']\n",
    "            state = vehicle['state']\n",
    "\n",
    "            # 构建消息\n",
    "            message = (\n",
    "                f\"车辆名称: {display_name}\\n\"\n",
    "                f\"最后一次看到: {last_seen}\\n\"\n",
    "                f\"电池电量: {battery_level}%\\n\"\n",
    "                f\"里程数: {odometer} 公里\\n\"\n",
    "                f\"充电状态: {charging_state}\\n\"\n",
    "                f\"当前位置: ({latitude}, {longitude})\\n\"\n",
    "                f\"车载软件版本: {car_version}\\n\"\n",
    "                f\"车辆状态: {state}\"\n",
    "            )\n",
    "            \n",
    "            # 发送消息到 Telegram\n",
    "            response = send_message_to_telegram(message, TELEGRAM_BOT_TOKEN, TELEGRAM_CHANNEL_ID)\n",
    "            \n",
    "            if response.status_code == 200:\n",
    "                print('消息已成功发送到 Telegram 频道')\n",
    "            else:\n",
    "                print(f\"发送消息失败：{response.text}\")\n",
    "    except Exception as e:\n",
    "        print(f\"发生错误：{e}\")"
   ]
  },
  {
   "cell_type": "code",
   "execution_count": null,
   "id": "9aec8846-1077-4f2c-8e85-019ecc5f2fed",
   "metadata": {},
   "outputs": [],
   "source": [
    "7291139880:AAHPcfpuFQGN-_WOMfKBLRtXKrQft-ycVhc"
   ]
  },
  {
   "cell_type": "code",
   "execution_count": 2,
   "id": "fe2305f1-b29b-470d-ba35-ccfe10edc801",
   "metadata": {},
   "outputs": [
    {
     "ename": "Exception",
     "evalue": "Failed to get token: {\"response\":null,\"error\":\"Endpoint deprecated: Please update your App.\",\"error_description\":\"\"}",
     "output_type": "error",
     "traceback": [
      "\u001b[0;31m---------------------------------------------------------------------------\u001b[0m",
      "\u001b[0;31mException\u001b[0m                                 Traceback (most recent call last)",
      "Cell \u001b[0;32mIn[2], line 29\u001b[0m\n\u001b[1;32m     26\u001b[0m         \u001b[38;5;28;01mraise\u001b[39;00m \u001b[38;5;167;01mException\u001b[39;00m(\u001b[38;5;124m'\u001b[39m\u001b[38;5;124mFailed to get token: \u001b[39m\u001b[38;5;132;01m{}\u001b[39;00m\u001b[38;5;124m'\u001b[39m\u001b[38;5;241m.\u001b[39mformat(response\u001b[38;5;241m.\u001b[39mtext))\n\u001b[1;32m     28\u001b[0m \u001b[38;5;28;01mif\u001b[39;00m \u001b[38;5;18m__name__\u001b[39m \u001b[38;5;241m==\u001b[39m \u001b[38;5;124m\"\u001b[39m\u001b[38;5;124m__main__\u001b[39m\u001b[38;5;124m\"\u001b[39m:\n\u001b[0;32m---> 29\u001b[0m     token \u001b[38;5;241m=\u001b[39m get_tesla_api_token(TESLA_EMAIL, TESLA_PASSWORD)\n\u001b[1;32m     30\u001b[0m     \u001b[38;5;28mprint\u001b[39m(\u001b[38;5;124m'\u001b[39m\u001b[38;5;124mTesla API Token:\u001b[39m\u001b[38;5;124m'\u001b[39m, token)\n",
      "Cell \u001b[0;32mIn[2], line 26\u001b[0m, in \u001b[0;36mget_tesla_api_token\u001b[0;34m(email, password)\u001b[0m\n\u001b[1;32m     24\u001b[0m     \u001b[38;5;28;01mreturn\u001b[39;00m response\u001b[38;5;241m.\u001b[39mjson()[\u001b[38;5;124m'\u001b[39m\u001b[38;5;124maccess_token\u001b[39m\u001b[38;5;124m'\u001b[39m]\n\u001b[1;32m     25\u001b[0m \u001b[38;5;28;01melse\u001b[39;00m:\n\u001b[0;32m---> 26\u001b[0m     \u001b[38;5;28;01mraise\u001b[39;00m \u001b[38;5;167;01mException\u001b[39;00m(\u001b[38;5;124m'\u001b[39m\u001b[38;5;124mFailed to get token: \u001b[39m\u001b[38;5;132;01m{}\u001b[39;00m\u001b[38;5;124m'\u001b[39m\u001b[38;5;241m.\u001b[39mformat(response\u001b[38;5;241m.\u001b[39mtext))\n",
      "\u001b[0;31mException\u001b[0m: Failed to get token: {\"response\":null,\"error\":\"Endpoint deprecated: Please update your App.\",\"error_description\":\"\"}"
     ]
    }
   ],
   "source": [
    "import requests\n",
    "\n",
    "# 用户的 Tesla 帐户电子邮件和密码\n",
    "TESLA_EMAIL = 'sulaxd@gmail.com'\n",
    "TESLA_PASSWORD = 'Ss1397268455,'\n",
    "\n",
    "def get_tesla_api_token(email, password):\n",
    "    # 请求的 URL 和数据\n",
    "    url = 'https://owner-api.teslamotors.com/oauth/token'\n",
    "    headers = {\n",
    "        'Content-Type': 'application/json'\n",
    "    }\n",
    "    data = {\n",
    "        'grant_type': 'password',\n",
    "        'client_id': 'ownerapi',\n",
    "        'client_secret': 'c7c58982cffd6b3ef0244eac6533fbb0fa244a4b6fc9f1fe47a1a2bdef5a2fb5',\n",
    "        'email': email,\n",
    "        'password': password\n",
    "    }\n",
    "\n",
    "    # 发送请求\n",
    "    response = requests.post(url, json=data, headers=headers)\n",
    "    if response.status_code == 200:\n",
    "        return response.json()['access_token']\n",
    "    else:\n",
    "        raise Exception('Failed to get token: {}'.format(response.text))\n",
    "\n",
    "if __name__ == \"__main__\":\n",
    "    token = get_tesla_api_token(TESLA_EMAIL, TESLA_PASSWORD)\n",
    "    print('Tesla API Token:', token)"
   ]
  }
 ],
 "metadata": {
  "kernelspec": {
   "display_name": "Python 3 (ipykernel)",
   "language": "python",
   "name": "python3"
  },
  "language_info": {
   "codemirror_mode": {
    "name": "ipython",
    "version": 3
   },
   "file_extension": ".py",
   "mimetype": "text/x-python",
   "name": "python",
   "nbconvert_exporter": "python",
   "pygments_lexer": "ipython3",
   "version": "3.11.7"
  }
 },
 "nbformat": 4,
 "nbformat_minor": 5
}
